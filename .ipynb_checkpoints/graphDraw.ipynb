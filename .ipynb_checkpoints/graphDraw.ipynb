{
 "cells": [
  {
   "cell_type": "code",
   "execution_count": 10,
   "id": "fd91b283",
   "metadata": {},
   "outputs": [],
   "source": [
    "import networkx as nx\n",
    "import numpy as np\n",
    "import matplotlib.pyplot as plt\n",
    "import pydot as pd"
   ]
  },
  {
   "cell_type": "code",
   "execution_count": 35,
   "id": "12032e15",
   "metadata": {},
   "outputs": [],
   "source": [
    "graphs = pd.graph_from_dot_file(\"../project/prisonerTree.dot\")\n",
    "graph = graphs[0]\n",
    "graph.write_png(\"prisoner.png\")"
   ]
  },
  {
   "cell_type": "code",
   "execution_count": 1,
   "id": "f526da37",
   "metadata": {},
   "outputs": [],
   "source": [
    "from pyvis.network import Network\n",
    "import networkx as nx"
   ]
  },
  {
   "cell_type": "code",
   "execution_count": 16,
   "id": "1ccde0aa",
   "metadata": {},
   "outputs": [],
   "source": [
    "g = nx.DiGraph(nx.nx_pydot.read_dot(\"../project/prisonerTree.dot\"))\n",
    "visGraph = Network('800px', '800px', directed=True)\n",
    "visGraph.from_nx(g)\n",
    "visGraph.write_html(\"prisoner.html\")"
   ]
  }
 ],
 "metadata": {
  "kernelspec": {
   "display_name": "Python 3",
   "language": "python",
   "name": "python3"
  },
  "language_info": {
   "codemirror_mode": {
    "name": "ipython",
    "version": 3
   },
   "file_extension": ".py",
   "mimetype": "text/x-python",
   "name": "python",
   "nbconvert_exporter": "python",
   "pygments_lexer": "ipython3",
   "version": "3.10.11"
  }
 },
 "nbformat": 4,
 "nbformat_minor": 5
}
