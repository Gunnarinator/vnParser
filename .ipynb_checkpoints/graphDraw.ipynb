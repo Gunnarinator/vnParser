{
 "cells": [
  {
   "cell_type": "code",
   "execution_count": 3,
   "id": "fd91b283",
   "metadata": {},
   "outputs": [],
   "source": [
    "import networkx as nx\n",
    "import numpy as np\n",
    "import matplotlib.pyplot as plt\n",
    "import pydot as pd"
   ]
  },
  {
   "cell_type": "code",
   "execution_count": 16,
   "id": "12032e15",
   "metadata": {},
   "outputs": [],
   "source": [
    "graphs = pd.graph_from_dot_file(\"../project/prisonerTree.dot\")\n",
    "graph = graphs[0]\n",
    "graph.write_png(\"prisoner.png\")"
   ]
  },
  {
   "cell_type": "code",
   "execution_count": null,
   "id": "48dbdbcf",
   "metadata": {},
   "outputs": [
    {
     "name": "stdout",
     "output_type": "stream",
     "text": [
      "Collecting pydot\n",
      "  Downloading pydot-3.0.2-py3-none-any.whl.metadata (10 kB)\n",
      "Collecting pyparsing>=3.0.9 (from pydot)\n",
      "  Downloading pyparsing-3.2.0-py3-none-any.whl.metadata (5.0 kB)\n",
      "Downloading pydot-3.0.2-py3-none-any.whl (35 kB)\n",
      "Downloading pyparsing-3.2.0-py3-none-any.whl (106 kB)\n",
      "   ---------------------------------------- 106.9/106.9 kB 3.1 MB/s eta 0:00:00\n",
      "Installing collected packages: pyparsing, pydot\n",
      "  Attempting uninstall: pyparsing\n",
      "    Found existing installation: pyparsing 3.0.4\n",
      "    Uninstalling pyparsing-3.0.4:\n",
      "      Successfully uninstalled pyparsing-3.0.4\n",
      "Successfully installed pydot-3.0.2 pyparsing-3.2.0\n",
      "Note: you may need to restart the kernel to use updated packages.\n"
     ]
    }
   ],
   "source": []
  },
  {
   "cell_type": "code",
   "execution_count": null,
   "id": "2bc42889",
   "metadata": {},
   "outputs": [],
   "source": []
  }
 ],
 "metadata": {
  "kernelspec": {
   "display_name": "Python 3",
   "language": "python",
   "name": "python3"
  },
  "language_info": {
   "codemirror_mode": {
    "name": "ipython",
    "version": 3
   },
   "file_extension": ".py",
   "mimetype": "text/x-python",
   "name": "python",
   "nbconvert_exporter": "python",
   "pygments_lexer": "ipython3",
   "version": "3.10.11"
  }
 },
 "nbformat": 4,
 "nbformat_minor": 5
}
