{
 "cells": [
  {
   "cell_type": "code",
   "execution_count": 1,
   "id": "f526da37",
   "metadata": {},
   "outputs": [],
   "source": [
    "from pyvis.network import Network\n",
    "import networkx as nx"
   ]
  },
  {
   "cell_type": "code",
   "execution_count": 9,
   "id": "1ccde0aa",
   "metadata": {},
   "outputs": [],
   "source": [
    "g = nx.DiGraph(nx.nx_pydot.read_dot(\"../project/output/trueDot.dot\"))\n",
    "visGraph = Network('1200px', '1200px', directed=True)\n",
    "visGraph.from_nx(g)\n",
    "visGraph.write_html(\"trueFinalAttempt.html\")"
   ]
  }
 ],
 "metadata": {
  "kernelspec": {
   "display_name": "Python 3",
   "language": "python",
   "name": "python3"
  },
  "language_info": {
   "codemirror_mode": {
    "name": "ipython",
    "version": 3
   },
   "file_extension": ".py",
   "mimetype": "text/x-python",
   "name": "python",
   "nbconvert_exporter": "python",
   "pygments_lexer": "ipython3",
   "version": "3.10.11"
  }
 },
 "nbformat": 4,
 "nbformat_minor": 5
}
